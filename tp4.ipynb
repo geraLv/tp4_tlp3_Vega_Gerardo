{
 "cells": [
  {
   "cell_type": "markdown",
   "id": "3e4771e8",
   "metadata": {},
   "source": [
    "# Trabajo Practico n4 - Introduccion a numpy.\n",
    "## Criterios de evaluación.\n",
    "\n",
    "* Se deben utilizar nombres de variables descriptivos y claros (Utilizar la nomeclatura correspondiente para los nombres de variables).\n",
    "* Comentarios claros y concisos que expliquen el propósito de cada sección del código.\n",
    "* Utilizar mensajes de commit **descriptivos**. (Puedes utilizar la extension CONVENTIONAL COMMIT de VS-CODE). \n",
    "* Entrega en tiempo y forma.\n",
    "* Todo el código desarrollado debe ser subido a un repositorio en GitHub (el nombre del repositorio de seguir la siguiente estructura: tp4_tlp3_nombre_apellido).\n",
    "* Para resolver las actividades se debe insertar casillas de codigo entre cada actividad del cuaderno de Jupyter\n",
    "\n",
    "### ¡Importante!\n",
    "**El incumplimiento de los criterios de evaluación restará puntos en la nota final del práctico!**"
   ]
  },
  {
   "cell_type": "markdown",
   "id": "6f3340d9",
   "metadata": {},
   "source": [
    "**Importaciones:**"
   ]
  },
  {
   "cell_type": "code",
   "execution_count": 1,
   "id": "783ab170",
   "metadata": {},
   "outputs": [],
   "source": [
    "import numpy as np\n",
    "from random import randint"
   ]
  },
  {
   "cell_type": "markdown",
   "id": "c5ba7292",
   "metadata": {},
   "source": [
    "**Actividad 1:**: Crea un array de NumPy que contenga los números del 0 al 9. (Debes utilizar un metodo de numpy para su creacion.)"
   ]
  },
  {
   "cell_type": "code",
   "execution_count": 4,
   "id": "75029034",
   "metadata": {},
   "outputs": [
    {
     "name": "stdout",
     "output_type": "stream",
     "text": [
      "[1 2 3 4 5 6 7 8 9]\n"
     ]
    }
   ],
   "source": [
    "#todo: \n",
    "array = np.array([1,2,3,4,5,6,7,8,9])\n",
    "print(array)"
   ]
  },
  {
   "cell_type": "markdown",
   "id": "cb894927",
   "metadata": {},
   "source": [
    "**Actividad 2:** Crea un array de 5 ceros, y luego cambia el tercer elemento (índice 2) para que sea 5. (Debes utilizar un metodo de numpy para su creacion.)"
   ]
  },
  {
   "cell_type": "code",
   "execution_count": 14,
   "id": "b9cd04a0",
   "metadata": {},
   "outputs": [
    {
     "name": "stdout",
     "output_type": "stream",
     "text": [
      "Array por defecto: [0 0 0 0 0]\n",
      "Array con el indice \"2\" reemplazado [0 0 5 0 0]\n"
     ]
    }
   ],
   "source": [
    "#todo:\n",
    "array = np.array([0,0,0,0,0])\n",
    "print(f\"\"\"Array por defecto: {array}\"\"\")\n",
    "array[2] = 5\n",
    "print(f\"\"\"Array con el indice \"2\" reemplazado {array}\"\"\")"
   ]
  },
  {
   "cell_type": "markdown",
   "id": "000352a3",
   "metadata": {},
   "source": [
    "**Actividad 3:** Genera una matriz 3x3 de números aleatorios entre 0 y 1."
   ]
  },
  {
   "cell_type": "code",
   "execution_count": 53,
   "id": "e74354c9",
   "metadata": {},
   "outputs": [
    {
     "name": "stdout",
     "output_type": "stream",
     "text": [
      "[[1 0 0]\n",
      " [0 1 0]\n",
      " [1 0 1]]\n"
     ]
    }
   ],
   "source": [
    "#todo: \n",
    "array_matriz = np.random.randint(low=0,high=2,size=(3,3))\n",
    "print(array_matriz)"
   ]
  },
  {
   "cell_type": "markdown",
   "id": "6611aaf8",
   "metadata": {},
   "source": [
    "**Actividad 4:** Dado el siguiente array `arr = np.array([10, 20, 30, 40, 50])`\n",
    "1. Suma 5 a cada elemento.\n",
    "2. Multiplica todo por un numero aleatorio (utiliza el modulo random para generarlo.)"
   ]
  },
  {
   "cell_type": "code",
   "execution_count": 69,
   "id": "ed416e11",
   "metadata": {},
   "outputs": [
    {
     "name": "stdout",
     "output_type": "stream",
     "text": [
      "Array por defecto: [10 20 30 40 50]\n",
      "Array + \"5\": [15 25 35 45 55]\n",
      "Numero que multiplica al array: 4\n",
      "Array multiplicado: [ 60 100 140 180 220]\n"
     ]
    }
   ],
   "source": [
    "#todo:\n",
    "arr = np.array([10, 20, 30, 40, 50])\n",
    "print(f\"\"\"Array por defecto: {arr}\"\"\")\n",
    "#Suma 5 a cada elemento del array\n",
    "arr += 5\n",
    "print(f\"\"\"Array + \"5\": {arr}\"\"\")\n",
    "\n",
    "#Genera un numero ramdom entre {1 y 10} y multiplica a array por ese numero\n",
    "multi = randint(1,10)\n",
    "arr *= multi\n",
    "\n",
    "print(f\"\"\"Numero que multiplica al array: {multi}\"\"\")\n",
    "print(f\"\"\"Array multiplicado: {arr}\"\"\")"
   ]
  },
  {
   "cell_type": "markdown",
   "id": "fbd05c4d",
   "metadata": {},
   "source": [
    "**Actividad 5:** Crea una matriz identidad de tamaño 4x4 (unos en la diagonal principal y ceros en el resto)."
   ]
  },
  {
   "cell_type": "code",
   "execution_count": null,
   "id": "6811c19f",
   "metadata": {},
   "outputs": [
    {
     "name": "stdout",
     "output_type": "stream",
     "text": [
      "[[1 0 0 0]\n",
      " [0 1 0 0]\n",
      " [0 0 1 0]\n",
      " [0 0 0 1]]\n"
     ]
    }
   ],
   "source": [
    "#todo:\n",
    "array = np.array([[1, 0, 0,0], [0, 1, 0,0], [0, 0, 1,0], [0, 0, 0,1]])\n",
    "print(array)"
   ]
  },
  {
   "cell_type": "markdown",
   "id": "3ec18459",
   "metadata": {},
   "source": [
    "**Actividad 6:** Crea un array que comience en 0 hasta el 20, pero que solo tenga numeros pares yu luego realiza las 4 operaciones basicas. (suma, resta, multiplicacion, division)."
   ]
  },
  {
   "cell_type": "code",
   "execution_count": null,
   "id": "f0c02872",
   "metadata": {},
   "outputs": [
    {
     "name": "stdout",
     "output_type": "stream",
     "text": [
      "Array por defecto: [ 0  2  4  6  8 10 12 14 16 18 20]\n",
      "Array + \"4\": [ 4  6  8 10 12 14 16 18 20 22 24]\n",
      "Array - \"4\": [-4 -2  0  2  4  6  8 10 12 14 16]\n",
      "Array * \"4\": [ 0  8 16 24 32 40 48 56 64 72 80]\n",
      "Array / \"4\": [0.  0.5 1.  1.5 2.  2.5 3.  3.5 4.  4.5 5. ]\n"
     ]
    }
   ],
   "source": [
    "#todo: \n",
    "#Crea un array con valores dentro del intervalo {0,21} \n",
    "# y los saltea cada 2 para generar solo numeros pares.\n",
    "array = np.arange(0,21,2)\n",
    "\n",
    "print(f\"\"\"Array por defecto: {array}\"\"\")\n",
    "print(f\"\"\"Array + \"4\": {array + 4}\"\"\")\n",
    "print(f\"\"\"Array - \"4\": {array - 4}\"\"\")\n",
    "print(f\"\"\"Array * \"4\": {array * 4}\"\"\")\n",
    "print(f\"\"\"Array / \"4\": {array / 4}\"\"\")\n",
    "\n"
   ]
  }
 ],
 "metadata": {
  "kernelspec": {
   "display_name": "Python 3",
   "language": "python",
   "name": "python3"
  },
  "language_info": {
   "codemirror_mode": {
    "name": "ipython",
    "version": 3
   },
   "file_extension": ".py",
   "mimetype": "text/x-python",
   "name": "python",
   "nbconvert_exporter": "python",
   "pygments_lexer": "ipython3",
   "version": "3.12.9"
  }
 },
 "nbformat": 4,
 "nbformat_minor": 5
}
